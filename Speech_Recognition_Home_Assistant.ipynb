{
  "nbformat": 4,
  "nbformat_minor": 0,
  "metadata": {
    "colab": {
      "name": "Speech Recognition Home Assistant.ipynb",
      "provenance": [],
      "collapsed_sections": [],
      "authorship_tag": "ABX9TyODOZqwMkIvJNtnrv/xJ+ws",
      "include_colab_link": true
    },
    "kernelspec": {
      "name": "python3",
      "display_name": "Python 3"
    },
    "language_info": {
      "name": "python"
    }
  },
  "cells": [
    {
      "cell_type": "markdown",
      "metadata": {
        "id": "view-in-github",
        "colab_type": "text"
      },
      "source": [
        "<a href=\"https://colab.research.google.com/github/senanursahin/IOT-Speech-Recognition-Home-Assistant/blob/main/Speech_Recognition_Home_Assistant.ipynb\" target=\"_parent\"><img src=\"https://colab.research.google.com/assets/colab-badge.svg\" alt=\"Open In Colab\"/></a>"
      ]
    },
    {
      "cell_type": "code",
      "metadata": {
        "id": "SEKwGfmXgDmZ"
      },
      "source": [
        "#!/usr/bin/python\n",
        "# -*- coding: utf-8 -*\n",
        "\n",
        "# libraries\n",
        "import RPi.GPIO as GPIO # library for reaching pins on raspberry\n",
        "import speech_recognition # library of google speech recognition"
      ],
      "execution_count": null,
      "outputs": []
    },
    {
      "cell_type": "code",
      "metadata": {
        "id": "ilqXZCoagavy"
      },
      "source": [
        "# to use board pin numbers on raspberry \n",
        "GPIO.setmode(GPIO.BOARD)\n",
        "\n",
        "# defining output channels\n",
        "GPIO.setup(11, GPIO.OUT)\n",
        "GPIO.setup(13, GPIO.OUT)"
      ],
      "execution_count": null,
      "outputs": []
    },
    {
      "cell_type": "code",
      "metadata": {
        "id": "vetylxW6gdoH"
      },
      "source": [
        "definer = speech_recognition.Recognizer() # the object for commands\n",
        "microfon = speech_recognition.Microphone() # the object for voice"
      ],
      "execution_count": null,
      "outputs": []
    },
    {
      "cell_type": "code",
      "metadata": {
        "id": "mf44bjAftnv-"
      },
      "source": [
        "# function for mining the speech and acting the command\n",
        "def definespeech():\n",
        "    try:\n",
        "        print('Configuring background noise...')\n",
        "        with microfon as voice_source:\n",
        "            definer.adjust_for_ambient_noise(voice_source)\n",
        "\n",
        "        # keep listening on infinite loop\n",
        "        while True:\n",
        "            \n",
        "            try:\n",
        "                with microfon as voice_source:\n",
        "                    print('Listening you...')\n",
        "                    voice = definer.listen(voice_source, timeout=10, phrase_time_limit=10)\n",
        "                \n",
        "                # google speech recognizition lib\n",
        "                val = definer.recognize_google(voice, language='eng-eng').lower() #lower is for reading in lower alphabet\n",
        "\n",
        "                print(\"Are you trying to say this: '{}'\".format(deger))\n",
        "\n",
        "                if val == 'open blue room':\n",
        "                    GPIO.output(11, True)\n",
        "                    print(\"blue room opened\")\n",
        "                elif val == 'close blue room':\n",
        "                    GPIO.output(11, False)\n",
        "                    print(\"blue room closed\")\n",
        "                elif val == 'open red room':\n",
        "                    GPIO.output(13, True)\n",
        "                    print(\"red room opened\")\n",
        "                elif val == 'close red room':\n",
        "                    GPIO.output(13, False)\n",
        "                    print(\"red room closed\")\n",
        "                elif val == 'open all':\n",
        "                    GPIO.output((11, 13), True)\n",
        "                    print(\"all lights opened\")\n",
        "                elif val == 'close all':\n",
        "                    GPIO.output((11, 13), False)\n",
        "                    print(\"all lights closed\")\n",
        "                else:\n",
        "                    print('There is no command for this...')\n",
        "                    \n",
        "            except speech_recognition.WaitTimeoutError as e:\n",
        "                print('Timeout, please say something; {0}'.format(e))\n",
        "\n",
        "            except speech_recognition.RequestError as e:\n",
        "                print(' Can not define what you are saying ; {0}'.format(e))\n",
        "    \n",
        "            except speech_recognition.UnknownValueError as e:\n",
        "                print(' Not catched what you have said'; {0}'.format(e))\n",
        "                \n",
        "    except KeyboardInterrupt:\n",
        "        pass\n"
      ],
      "execution_count": null,
      "outputs": []
    },
    {
      "cell_type": "code",
      "metadata": {
        "id": "xGHAgdDXgmMU"
      },
      "source": [
        "# calling the function\n",
        "if __name__ == '__main__':\n",
        "    definespeech()"
      ],
      "execution_count": null,
      "outputs": []
    }
  ]
}